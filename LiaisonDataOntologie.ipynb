{
 "cells": [
  {
   "attachments": {},
   "cell_type": "markdown",
   "metadata": {},
   "source": [
    "# Liaison Data et Ontologie\n",
    "\n",
    "Utilisation de ChatGPT pour extraire les thèmes puis instanciations des données dans l'ontologie via owlready2"
   ]
  },
  {
   "attachments": {},
   "cell_type": "markdown",
   "metadata": {},
   "source": [
    "## Imports"
   ]
  },
  {
   "cell_type": "code",
   "execution_count": 1,
   "metadata": {},
   "outputs": [
    {
     "name": "stderr",
     "output_type": "stream",
     "text": [
      "* Owlready2 * Warning: optimized Cython parser module 'owlready2_optimized' is not available, defaulting to slower Python implementation\n"
     ]
    }
   ],
   "source": [
    "try:\n",
    "  import openai\n",
    "  import json\n",
    "  from ast import literal_eval\n",
    "  from tqdm import tqdm\n",
    "  from unidecode import unidecode\n",
    "  import owlready2 as owl\n",
    "  import types\n",
    "  import os\n",
    "except ModuleNotFoundError:\n",
    "  %pip install -r \"requirements.txt\"\n",
    "\n",
    "in_ontology_url = \"https://raw.githubusercontent.com/ApprocheSemantiqueP2/ontologie/main/Music_ID_ontology.owl\"\n",
    "out_ontology_url = \"./ontologie_finale.owl\"\n",
    "openai.api_key = os.environ[\"OPENAI_API_KEY\"]"
   ]
  },
  {
   "attachments": {},
   "cell_type": "markdown",
   "metadata": {},
   "source": [
    "## Extractions des thèmes\n",
    "\n",
    "### Utilisation de la bibliothèque openai"
   ]
  },
  {
   "cell_type": "code",
   "execution_count": 3,
   "metadata": {},
   "outputs": [],
   "source": [
    "class LyricsThemeExtractor:\n",
    "    def __init__(self) -> None:\n",
    "        self.system_prompt = \"\"\"\"\n",
    "        Tu es un assistant textuel qui extrait les thèmes en un seul mot correspondants aux paroles d'une chanson mot par mot, les extrayant dans une liste python au format suivant: [\"<theme1>\", \"<theme2>\", ...].\n",
    "        Retourne moi seulement la liste, aucun texte autour sinon c'est invalide.\n",
    "        Extrait le plus de thèmes possible.\n",
    "        Essaye de te restreindre aux thèmes suivants: [\"Amitié\", \"Amour\", \"Amusement\", \"Animosité\", \"Argent\", \"Armes\", \"Drogue\", \"Energie\", \"Epreuve\", \"Fantasy\", \"Histoire\", \"Joie\", \"Peine\", \"Religion\", \"Trahison\"] mais tu peux en rajouter si besoin.\n",
    "        \"\"\"\n",
    "\n",
    "    def get_themes(self, paroles: str, max_retries=3):\n",
    "        user_prompt = f'Extrait les themes EN FRANÇAIS SEULEMENT des paroles suivantes en UN SEUL MOT sinon invalide \"{paroles}\"'\n",
    "        res = None\n",
    "        retries = 0\n",
    "\n",
    "        while res == None and retries < max_retries:\n",
    "          try:\n",
    "            completion = openai.ChatCompletion.create(\n",
    "                model=\"gpt-3.5-turbo\",\n",
    "                messages=[\n",
    "                    {\"role\": \"system\", \"content\": self.system_prompt},\n",
    "                    {\"role\": \"user\", \"content\": user_prompt}\n",
    "                ]\n",
    "            )\n",
    "            res = literal_eval(completion[\"choices\"][0][\"message\"][\"content\"])\n",
    "          except:\n",
    "            retries += 1\n",
    "        \n",
    "        return res\n",
    "\n",
    "extractor = LyricsThemeExtractor()"
   ]
  },
  {
   "attachments": {},
   "cell_type": "markdown",
   "metadata": {},
   "source": [
    "### Exemple"
   ]
  },
  {
   "cell_type": "code",
   "execution_count": 21,
   "metadata": {},
   "outputs": [
    {
     "name": "stdout",
     "output_type": "stream",
     "text": [
      "['Argent', 'Armes', 'Drogue']\n"
     ]
    }
   ],
   "source": [
    "paroles = \"\"\"\n",
    "COUPLET\n",
    "\n",
    "Mon reuf me dis que tout va bene\n",
    "Mais fuck cette vie j’attends bénéfice\n",
    "Un keuf qui tire y’a du délai\n",
    "Une goutte pour les morts, vide le Hennessy\n",
    "La guerre nous on sait que c’est khene\n",
    "Y’a que pour la vente d’armes que c’est bénéfique\n",
    "Les snakes autour de nous qui dansent\n",
    "Toutes ces plaies qu’on panse\n",
    "Nous rendent frénétique\n",
    "Yeah\n",
    "Un million de galères qu’on a mis sur le tec\n",
    "Ma voix dans un Pultec\n",
    "J’veux m’barrer j’ai déjà fait le tour de la zone\n",
    "Les zombies qui traient on les connaît les shlags les gros bonnets ah yeah À la misère abonné ah yeah\n",
    "J’attends juste de récupérer ma somme\n",
    "REFRAIN\n",
    "\n",
    "Ma gasolina part et dans ma tête je rembobine\n",
    "J’viens pas de ce milieu, zéro pistons donc on improvise\n",
    "J’ai fais le tour de la ville, les poches et le ventre vide\n",
    "En catimini on s’prépare pour nous rien n’est impossible\n",
    "\n",
    "COUPLET 2\n",
    "\n",
    "Plus d’coco dans le coeur, c’est la grève\n",
    "Ma gasolina veut tirer un trait\n",
    "Un ordi, une carte et un micro\n",
    "Y’a des secousses on vient poser l’adresse\n",
    "Tous les jours 75 aller-retour paris sud, paris nord j’crame\n",
    "Autour que des plavans chelous qui s’trament\n",
    "J’les vois cons’ le que-cra j’les vois qu’ils se canent\n",
    "Dans l’blizzard on navigue encore à l’aveugle\n",
    "Tout pour soigner l’entorse yeah\n",
    "J’dois réparer son cœur en porcelaine\n",
    "Un peu d’carburant dans l’amphore\n",
    "\n",
    "REFRAIN\n",
    "\n",
    "Ma gasolina part et dans ma tête je rembobine\n",
    "J’viens pas de ce milieu, zéro pistons donc on improvise\n",
    "J’ai fais le tour de la ville, les poches et le ventre vide\n",
    "En catimini on s’prépare pour nous rien n’est impossible\n",
    "\"\"\"\n",
    "\n",
    "res = extractor.get_themes(paroles)\n",
    "print(res)"
   ]
  },
  {
   "attachments": {},
   "cell_type": "markdown",
   "metadata": {},
   "source": [
    "### Extraction des thèmes"
   ]
  },
  {
   "cell_type": "code",
   "execution_count": 22,
   "metadata": {},
   "outputs": [
    {
     "name": "stderr",
     "output_type": "stream",
     "text": [
      "100%|██████████| 140/140 [04:35<00:00,  1.97s/it]\n"
     ]
    },
    {
     "data": {
      "text/plain": [
       "1826613"
      ]
     },
     "execution_count": 22,
     "metadata": {},
     "output_type": "execute_result"
    }
   ],
   "source": [
    "f = open(\"music_id.json\", \"r\")\n",
    "data = json.load(f)\n",
    "\n",
    "for song in tqdm(data):\n",
    "    themes = extractor.get_themes(song[\"lyrics\"].replace(\"\\n\", \" \"))\n",
    "    if themes is not None:\n",
    "        song[\"theme\"] = [unidecode(x).capitalize() for x in themes]\n",
    "\n",
    "f2 = open(\"data_final.json\", \"w\")\n",
    "json_obj = json.dumps(data, indent=4)\n",
    "\n",
    "f2.write(json_obj)"
   ]
  },
  {
   "attachments": {},
   "cell_type": "markdown",
   "metadata": {},
   "source": [
    "## Instanciation des données"
   ]
  },
  {
   "attachments": {},
   "cell_type": "markdown",
   "metadata": {},
   "source": []
  },
  {
   "cell_type": "code",
   "execution_count": 2,
   "metadata": {},
   "outputs": [],
   "source": [
    "f = open(\"data_final.json\", \"r\")\n",
    "\n",
    "onto = owl.get_ontology(in_ontology_url).load()\n",
    "data = json.load(f)\n",
    "\n",
    "for song in data:\n",
    "  newMorceau = onto.music(song['track'].replace(\" \", \"_\").upper(),\n",
    "                          songname = [song[\"track\"]],\n",
    "                          Duration = [song[\"duration_ms\"]],\n",
    "                          Songpop = [song[\"popularity\"]], \n",
    "                          BPM = [song[\"tempo\"]])\n",
    "\n",
    "  if song[\"album\"] == song[\"track\"]:\n",
    "    newRelease = onto.Single(song['album'].replace(\" \", \"_\").upper(), releasename = [song[\"album\"]], Date_de_sortie = [song[\"release_date\"]])\n",
    "  else:\n",
    "    newRelease = onto.Album(song['album'].replace(\" \", \"_\").upper(), releasename = [song[\"album\"]], Date_de_sortie = [song[\"release_date\"]])\n",
    "  newRelease.Contient.append(newMorceau)\n",
    "\n",
    "  newAuteur = onto.Auteur(song['artist'][0].replace(\" \", \"_\").upper(), Nom = [song[\"artist\"][0]])\n",
    "  \n",
    "  for x in [newMorceau, newRelease]:\n",
    "    x.aPourCreateur.append(newAuteur)\n",
    "  \n",
    "  for artist in song[\"artist\"] + song[\"producer_artist\"] + song[\"writer_artist\"]:\n",
    "    newArtiste = onto.Artiste(artist.replace(\" \", \"_\").upper(), Nom = [artist])\n",
    "    newArtiste.aSorti.append(newRelease)\n",
    "  if song[\"theme\"] is not None:\n",
    "    for theme in song[\"theme\"]:\n",
    "      with onto:\n",
    "        try:\n",
    "          newThemeClass = types.new_class(theme.replace(\" \", \"_\"), (onto[\"Thème\"], ))\n",
    "          newMorceau.aPourTheme.append(newThemeClass)\n",
    "        except TypeError:\n",
    "          continue\n",
    "\n",
    "    newParoles = onto.Paroles(song[\"track\"].replace(\" \", \"_\").upper(), Contenu = [song[\"lyrics\"]], Langue = [song[\"language\"]])\n",
    "\n",
    "onto.save(file = out_ontology_url, format = \"rdfxml\")"
   ]
  },
  {
   "cell_type": "markdown",
   "metadata": {},
   "source": []
  }
 ],
 "metadata": {
  "kernelspec": {
   "display_name": "Python 3",
   "language": "python",
   "name": "python3"
  },
  "language_info": {
   "codemirror_mode": {
    "name": "ipython",
    "version": 3
   },
   "file_extension": ".py",
   "mimetype": "text/x-python",
   "name": "python",
   "nbconvert_exporter": "python",
   "pygments_lexer": "ipython3",
   "version": "3.11.0"
  },
  "orig_nbformat": 4,
  "vscode": {
   "interpreter": {
    "hash": "133c05af96122dd66a9197f3a6058efb1fee826d6c8d36133c4938b1bc051a64"
   }
  }
 },
 "nbformat": 4,
 "nbformat_minor": 2
}
