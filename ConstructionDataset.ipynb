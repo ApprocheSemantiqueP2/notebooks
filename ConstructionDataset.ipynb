{
 "cells": [
  {
   "attachments": {},
   "cell_type": "markdown",
   "id": "ffdb9309",
   "metadata": {},
   "source": [
    "# Construction du Dataset"
   ]
  },
  {
   "attachments": {},
   "cell_type": "markdown",
   "id": "6c142099",
   "metadata": {},
   "source": [
    "## Imports"
   ]
  },
  {
   "cell_type": "code",
   "execution_count": 5,
   "id": "afac4155",
   "metadata": {},
   "outputs": [],
   "source": [
    "from lyricsgenius import Genius\n",
    "import pandas as pd\n",
    "import spotipy\n",
    "from spotipy.oauth2 import SpotifyClientCredentials\n",
    "from bs4 import BeautifulSoup\n",
    "import requests\n",
    "import os"
   ]
  },
  {
   "cell_type": "markdown",
   "id": "893d9033",
   "metadata": {},
   "source": [
    "## Déclaration des tokens pour se connecter aux API"
   ]
  },
  {
   "cell_type": "code",
   "execution_count": 6,
   "id": "8ca26ee5",
   "metadata": {},
   "outputs": [],
   "source": [
    "username=os.environ[\"SPOTIFY_USERNAME\"]\n",
    "cid= os.environ[\"SPOTIFY_CID\"]\n",
    "secret=os.environ[\"SPOTIFY_SECRET\"]\n",
    "g_id = os.environ[\"GENIUS_ID\"]\n",
    "g_secret = os.environ[\"GENIUS_SECRET\"]\n",
    "token = os.environ[\"GENIUS_TOKEN\"]\n",
    "\n",
    "genius = Genius(token)\n",
    "client_credentials_manager = SpotifyClientCredentials(client_id=cid, client_secret=secret)\n",
    "sp = spotipy.Spotify(client_credentials_manager = client_credentials_manager)"
   ]
  },
  {
   "cell_type": "code",
   "execution_count": null,
   "id": "3fa48be8",
   "metadata": {},
   "outputs": [],
   "source": [
    "import os\n",
    "\n",
    "print(os.environ[\"SPOTIFY_SECRET\"])"
   ]
  },
  {
   "cell_type": "markdown",
   "id": "9e349fdb",
   "metadata": {},
   "source": [
    "## Fonctions"
   ]
  },
  {
   "cell_type": "code",
   "execution_count": 20,
   "id": "eba59b41",
   "metadata": {},
   "outputs": [],
   "source": [
    "#insert output dataframe from the get_album_tracks function\n",
    "def get_track_info(df):\n",
    "    danceability = []\n",
    "    energy = []\n",
    "    key = []\n",
    "    loudness = []\n",
    "    speechiness = []\n",
    "    acousticness = []\n",
    "    instrumentalness = []\n",
    "    liveness = []\n",
    "    valence = []\n",
    "    tempo = []\n",
    "    n=0\n",
    "    for i in df['uri']:\n",
    "        for x in sp.audio_features(tracks=[i]):\n",
    "            n=n+1\n",
    "            print(str(n)+\"/\"+str(len(df)+1))\n",
    "            try:\n",
    "                danceability.append(x['danceability'])\n",
    "                energy.append(x['energy'])\n",
    "                key.append(x['key'])\n",
    "                loudness.append(x['loudness'])\n",
    "                speechiness.append(x['speechiness'])\n",
    "                acousticness.append(x['acousticness'])\n",
    "                instrumentalness.append(x['instrumentalness'])\n",
    "                liveness.append(x['liveness'])\n",
    "                valence.append(x['valence'])\n",
    "                tempo.append(x['tempo'])\n",
    "                \n",
    "            except:\n",
    "                danceability.append(None)\n",
    "                energy.append(None)\n",
    "                key.append(None)\n",
    "                loudness.append(None)\n",
    "                speechiness.append(None)\n",
    "                acousticness.append(None)\n",
    "                instrumentalness.append(None)\n",
    "                liveness.append(None)\n",
    "                valence.append(None)\n",
    "                tempo.append(None)\n",
    "    df2 = pd.DataFrame({\n",
    "    'danceability':danceability,\n",
    "    'energy':energy,\n",
    "    'key':key,\n",
    "    'loudness':loudness,\n",
    "    'speechiness':speechiness,\n",
    "    'acousticness':acousticness,\n",
    "    'instrumentalness':instrumentalness,\n",
    "    'liveness':liveness,\n",
    "    'valence':valence,\n",
    "    'tempo':tempo})\n",
    "    \n",
    "    return df2"
   ]
  },
  {
   "cell_type": "code",
   "execution_count": 16,
   "id": "2dd6be32",
   "metadata": {},
   "outputs": [],
   "source": [
    "def get_song_infos(df1):\n",
    "    producer_artist=[]\n",
    "    writer_artist=[]\n",
    "    music_label=[]\n",
    "    distributor=[]\n",
    "    number_views_genius=[]\n",
    "    language=[]\n",
    "    lyrics=[]\n",
    "    n=0\n",
    "    for i in range(len(df1)):\n",
    "        n=n+1\n",
    "        print(str(n)+\"/\"+str(len(df1)+1))\n",
    "        try:\n",
    "            test = genius.search_song(df1['track'].loc[i], df1.loc[i]['artist'][0])\n",
    "            song = genius.song(test.id).get('song')\n",
    "            try:\n",
    "                producer_artist.append([x.get('name') for x in song.get('producer_artists')])\n",
    "                \n",
    "            except:\n",
    "                producer_artist.append(None)\n",
    "            \n",
    "            try:\n",
    "                writer_artist.append([x.get('name') for x in song.get('writer_artists')])\n",
    "            \n",
    "            except:\n",
    "                writer_artist.append(None)\n",
    "            \n",
    "            try:\n",
    "                music_label.append([x.get('name') for x in song.get('custom_performances')[6].get('artists')])\n",
    "            \n",
    "            except:\n",
    "                music_label.append(None)\n",
    "                \n",
    "            try:\n",
    "                distributor.append([x.get('name') for x in song.get('custom_performances')[7].get('artists')])\n",
    "            \n",
    "            except:\n",
    "                distributor.append(None)\n",
    "            \n",
    "            try:\n",
    "                number_views_genius.append(song.get('stats').get('pageviews'))\n",
    "            \n",
    "            except:\n",
    "                number_views_genius.append(None)\n",
    "            \n",
    "            try:\n",
    "                language.append(song.get('language'))\n",
    "            \n",
    "            except:\n",
    "                language.append(None)\n",
    "            try:\n",
    "                lyrics.append(test.lyrics)\n",
    "            except:\n",
    "                lyrics.append(None)\n",
    "        except:\n",
    "            producer_artist.append(None)\n",
    "            writer_artist.append(None)\n",
    "            music_label.append(None)\n",
    "            distributor.append(None)\n",
    "            number_views_genius.append(None)\n",
    "            language.append(None)\n",
    "            lyrics.append(None)\n",
    "    \n",
    "            \n",
    "    df1['producer_artist']=producer_artist\n",
    "    df1['writer_artist']=writer_artist\n",
    "    df1['music_label'] = music_label\n",
    "    df1['distributor'] = distributor\n",
    "    df1['number_views_genius'] = number_views_genius\n",
    "    df1['language'] = language\n",
    "    df1['lyrics'] = lyrics\n",
    "    return df1"
   ]
  },
  {
   "cell_type": "code",
   "execution_count": 1,
   "id": "04dbd164",
   "metadata": {},
   "outputs": [],
   "source": [
    "def get_playlist_tracks(uri_playlist, theme):\n",
    "    one = sp.playlist_tracks(uri_playlist, limit=50, offset=0, market='US')\n",
    "    df=pd.DataFrame(one)\n",
    "    dictionnaire=df['items'].to_dict()\n",
    "    artist=[]\n",
    "    uri_song=[]\n",
    "    duration_ms=[]\n",
    "    track=[]\n",
    "    release_date=[]\n",
    "    album=[]\n",
    "    popularity=[]\n",
    "    for element in dictionnaire.values(): \n",
    "        artist.append([x.get('name') for x in element.get('track').get('artists')])\n",
    "        uri_song.append(element.get('track').get('uri'))\n",
    "        duration_ms.append(element.get('track').get('duration_ms'))\n",
    "        track.append(element.get('track').get('name'))\n",
    "        release_date.append(element.get('track').get('album').get('release_date'))\n",
    "        popularity.append(element.get('track').get('popularity'))\n",
    "        album.append(element.get('track').get('album').get('name'))\n",
    "        \n",
    "    theme=[theme]*len(album)\n",
    "    df1=pd.DataFrame({\n",
    "        'uri':uri_song,\n",
    "        'track':track,\n",
    "        'album':album,\n",
    "        'artist':artist,\n",
    "        'categorie':theme,\n",
    "        'duration_ms':duration_ms,\n",
    "        'release_date':release_date,\n",
    "        'popularity': popularity,\n",
    "        'theme':None,\n",
    "    })\n",
    "    return df1"
   ]
  },
  {
   "cell_type": "code",
   "execution_count": 7,
   "id": "0dc3061c",
   "metadata": {},
   "outputs": [],
   "source": [
    "def merge_frames(df1, df2):\n",
    "    df3 = df1.merge(df2, left_index= True, right_index= True)\n",
    "    return df3"
   ]
  },
  {
   "cell_type": "markdown",
   "id": "28c27c4d",
   "metadata": {},
   "source": [
    "## Create dataframe of playlist"
   ]
  },
  {
   "cell_type": "code",
   "execution_count": 8,
   "id": "89724bd2",
   "metadata": {},
   "outputs": [],
   "source": [
    "dict_categories=sp.categories().get('categories')\n",
    "id_categorie=[]\n",
    "name_categorie=[]\n",
    "for element in dict_categories.get('items'):\n",
    "    id_categorie.append(element.get('id'))\n",
    "    name_categorie.append(element.get('name'))\n",
    "\n",
    "all_dict_playlist=[]\n",
    "all_playlist=[]\n",
    "for categorie in id_categorie[:19]:\n",
    "    all_dict_playlist.append(sp.category_playlists(categorie).get('playlists').get('items'))\n",
    "for element in all_dict_playlist:\n",
    "    all_playlist.append([x.get('uri') for x in element if x is not None])\n",
    "    \n",
    "playlist_top_lists=all_playlist[0]\n",
    "playlist_summer=all_playlist[1]\n",
    "playlist_hip_hop=all_playlist[2]\n",
    "playlist_pop=all_playlist[3]\n",
    "playlist_french_pop=all_playlist[4]\n",
    "playlist_mood=all_playlist[5]\n",
    "playlist_dance_electronic=all_playlist[6]\n",
    "playlist_rock=all_playlist[7]\n",
    "playlist_latin=all_playlist[8]\n",
    "playlist_party=all_playlist[9]\n",
    "playlist_r_et_b=all_playlist[10]\n",
    "playlist_chill=all_playlist[11]\n",
    "playlist_afro=all_playlist[12]\n",
    "playlist_netflix=all_playlist[13]\n",
    "playlist_workout=all_playlist[14]\n",
    "playlist_sleep=all_playlist[15]\n",
    "playlist_in_the_car=all_playlist[16]\n",
    "playlist_dancehall_zouk=all_playlist[17]\n",
    "playlist_decades=all_playlist[18]\n",
    "\n",
    "first_playlists=[]\n",
    "first_playlists.append([x[:2] for x in all_playlist])\n",
    "all_df_playlist=[]\n",
    "for i, playlist in enumerate(first_playlists[0]):\n",
    "    all_df_playlist.append(pd.DataFrame({'playlist':playlist, 'theme': name_categorie[i]}))\n",
    "    \n",
    "all_df=[]\n",
    "for i in range(len(all_df_playlist)):\n",
    "    for j in range(len(all_df_playlist[i])):\n",
    "        try:\n",
    "            all_df.append(get_playlist_tracks(all_df_playlist[i].loc[j].values[0], list(all_df_playlist[i]['theme'].unique())[0]))\n",
    "        except:\n",
    "            print(all_df_playlist[i].loc[j].values[0])\n",
    "            print(list(all_df_playlist[i]['theme'].unique())[0])\n",
    "df=pd.concat(all_df, ignore_index=True)"
   ]
  },
  {
   "attachments": {},
   "cell_type": "markdown",
   "id": "dffd5797",
   "metadata": {},
   "source": [
    "## Dataframe infos"
   ]
  },
  {
   "cell_type": "code",
   "execution_count": null,
   "id": "f2743b57",
   "metadata": {},
   "outputs": [],
   "source": [
    "df_song_info = get_song_infos(df)\n",
    "df_song_info"
   ]
  },
  {
   "attachments": {},
   "cell_type": "markdown",
   "id": "d8f6b45d",
   "metadata": {},
   "source": [
    "## Fusion des dataframes"
   ]
  },
  {
   "cell_type": "code",
   "execution_count": 22,
   "id": "792038fa",
   "metadata": {},
   "outputs": [],
   "source": [
    "df_song_info2 = get_track_info(df_song_info)\n",
    "df_final = merge_frames(df_song_info,df_song_info2)\n",
    "df_final.categorie.unique()"
   ]
  },
  {
   "attachments": {},
   "cell_type": "markdown",
   "id": "98170f43",
   "metadata": {},
   "source": [
    "## Filtrage des dataframes et concaténation\n",
    "\n",
    "Dans le cadre de ce projet, nous avons décidé de restreindre notre ontologie aux morceaux français. Afin d'avoir un dataset homogène, on extrait 10 morceaux de chacun de nos genres."
   ]
  },
  {
   "cell_type": "code",
   "execution_count": 34,
   "id": "e25ebfbf",
   "metadata": {},
   "outputs": [],
   "source": [
    "categories = [\"Top Lists\", \"Summer\", \"Hip-Hop\", \"Pop\", \"French Pop\", \"Mood\", \"Dance/Electronic\", \"Rock\", \"latin\", \"Party\", \"R&B\", \"Chill\", \"Afro\", \"Netflix\", \"Workout\", \"Sleep\", \"In the car\", \"Dancehall/Zouk\", \"Decades\"]\n",
    "\n",
    "dfs = [df_final.query(f'language==\"fr\" and categorie == \"{categorie}\"')[:10] for categorie in categories]\n",
    "\n",
    "music_id=pd.concat(dfs, ignore_index=True)\n",
    "music_id.to_json(\"music_id.json\", orient=\"records\")"
   ]
  }
 ],
 "metadata": {
  "kernelspec": {
   "display_name": "Python 3 (ipykernel)",
   "language": "python",
   "name": "python3"
  },
  "language_info": {
   "codemirror_mode": {
    "name": "ipython",
    "version": 3
   },
   "file_extension": ".py",
   "mimetype": "text/x-python",
   "name": "python",
   "nbconvert_exporter": "python",
   "pygments_lexer": "ipython3",
   "version": "3.9.13"
  }
 },
 "nbformat": 4,
 "nbformat_minor": 5
}
